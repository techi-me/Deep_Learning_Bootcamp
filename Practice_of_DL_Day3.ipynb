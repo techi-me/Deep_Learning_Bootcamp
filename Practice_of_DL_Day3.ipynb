{
  "nbformat": 4,
  "nbformat_minor": 0,
  "metadata": {
    "colab": {
      "name": "Copy of DL_Day3.ipynb",
      "provenance": [],
      "collapsed_sections": [],
      "include_colab_link": true
    },
    "kernelspec": {
      "display_name": "Python 3",
      "name": "python3"
    },
    "accelerator": "TPU"
  },
  "cells": [
    {
      "cell_type": "markdown",
      "metadata": {
        "id": "view-in-github",
        "colab_type": "text"
      },
      "source": [
        "<a href=\"https://colab.research.google.com/github/techi-me/Deep_Learning_Bootcamp/blob/master/Practice_of_DL_Day3.ipynb\" target=\"_parent\"><img src=\"https://colab.research.google.com/assets/colab-badge.svg\" alt=\"Open In Colab\"/></a>"
      ]
    },
    {
      "cell_type": "markdown",
      "metadata": {
        "colab_type": "text",
        "id": "qFdPvlXBOdUN"
      },
      "source": [
        "# Introduction to Tensors"
      ]
    },
    {
      "cell_type": "code",
      "metadata": {
        "colab_type": "code",
        "id": "AL2hzxorJiWy",
        "colab": {}
      },
      "source": [
        "import tensorflow as tf\n",
        "import numpy as np"
      ],
      "execution_count": 1,
      "outputs": []
    },
    {
      "cell_type": "markdown",
      "metadata": {
        "colab_type": "text",
        "id": "VQ3s2J8Vgowq"
      },
      "source": [
        "Tensors are multi-dimensional arrays with a uniform type (called a `dtype`).  You can see all supported `dtypes` at `tf.dtypes.DType`.\n",
        "\n",
        "If you're familiar with [NumPy](https://dphi.tech/lms/learn/introduction-to-numpy), tensors are (kind of) like `np.arrays`.\n",
        "\n",
        "All tensors are immutable like Python numbers and strings: you can never update the contents of a tensor, only create a new one.\n"
      ]
    },
    {
      "cell_type": "markdown",
      "metadata": {
        "colab_type": "text",
        "id": "DRK5-9EpYbzG"
      },
      "source": [
        "## Basics\n",
        "\n",
        "Before creating basic tensors, let's understand some basics. "
      ]
    },
    {
      "cell_type": "markdown",
      "metadata": {
        "id": "gC1tqBu7MFAP",
        "colab_type": "text"
      },
      "source": [
        "### **Scalar, Vector, Matrix 101**\n",
        "\n",
        "\n",
        "![image name](https://dphi-courses.s3.ap-south-1.amazonaws.com/tensor.jpeg)\n",
        "\n",
        "* A scalar is a single number\n",
        "* A vector is an array of numbers.\n",
        "* A matrix is a 2-D array\n",
        "* A tensor is a n-dimensional array with n >2\n",
        "\n"
      ]
    },
    {
      "cell_type": "markdown",
      "metadata": {
        "id": "b1RGlZmv4bQb",
        "colab_type": "text"
      },
      "source": [
        "###  **Understanding Dimension - Indexes - Rank - Axes - Shape**\n",
        "\n",
        "1.   List item\n",
        "2.   List item\n",
        "\n"
      ]
    },
    {
      "cell_type": "markdown",
      "metadata": {
        "id": "Qlpin3u1mc-a",
        "colab_type": "text"
      },
      "source": [
        "####**Dimension:** \n",
        "\n",
        "Let’s take an example of box to explain this. A simple box can have three dimensions width, length and depth (or height). Similarly, in data science we will be working “N” dimensional datasets. “N” could be any number.\n",
        "\n",
        "\n",
        "![image name](https://dphi-courses.s3.ap-south-1.amazonaws.com/introduction-to-numpy/dimensions.png)\n",
        "\n"
      ]
    },
    {
      "cell_type": "markdown",
      "metadata": {
        "id": "EbgF-cNp3N1q",
        "colab_type": "text"
      },
      "source": [
        "\n",
        "####**Indexes:** \n",
        "\n",
        "Indexes are required to access an element in a Data Structure.\n",
        "\n",
        "![image name](https://dphi-courses.s3.ap-south-1.amazonaws.com/introduction-to-numpy/index+humans+and+python.png)"
      ]
    },
    {
      "cell_type": "markdown",
      "metadata": {
        "id": "oVqWEpQzmqv1",
        "colab_type": "text"
      },
      "source": [
        "For example, suppose we have this array:"
      ]
    },
    {
      "cell_type": "code",
      "metadata": {
        "id": "MIWfP4Lik6dN",
        "colab_type": "code",
        "colab": {}
      },
      "source": [
        "a = [1,2,3,4]"
      ],
      "execution_count": 2,
      "outputs": []
    },
    {
      "cell_type": "markdown",
      "metadata": {
        "id": "9NigILGSlE48",
        "colab_type": "text"
      },
      "source": [
        "Now, suppose we want to access (refer to) the number 3 in this data structure. We can do it using a single index like so:\n"
      ]
    },
    {
      "cell_type": "code",
      "metadata": {
        "id": "0eczFHQflIT1",
        "colab_type": "code",
        "colab": {
          "base_uri": "https://localhost:8080/",
          "height": 33
        },
        "outputId": "f2e7bf08-ad8f-4e63-9d4d-b882d01a7e34"
      },
      "source": [
        "a[2]"
      ],
      "execution_count": 3,
      "outputs": [
        {
          "output_type": "execute_result",
          "data": {
            "text/plain": [
              "3"
            ]
          },
          "metadata": {
            "tags": []
          },
          "execution_count": 3
        }
      ]
    },
    {
      "cell_type": "code",
      "metadata": {
        "id": "gSAXNeR4mF_M",
        "colab_type": "code",
        "colab": {}
      },
      "source": [
        "#As another example, suppose we have this 2d-array:\n",
        " \n",
        "dd = [\n",
        "[1,2,3],\n",
        "[4,5,6],\n",
        "[7,8,9]\n",
        "] "
      ],
      "execution_count": 4,
      "outputs": []
    },
    {
      "cell_type": "markdown",
      "metadata": {
        "id": "HC00vVscmLIP",
        "colab_type": "text"
      },
      "source": [
        "Now, suppose we want to access (refer to) the number 3 in this data structure. In this case, we need two indexes to locate the specific element."
      ]
    },
    {
      "cell_type": "code",
      "metadata": {
        "id": "mlaLIpKdmQXT",
        "colab_type": "code",
        "colab": {
          "base_uri": "https://localhost:8080/",
          "height": 33
        },
        "outputId": "95d235e9-7cd1-437e-996b-4d92cff38133"
      },
      "source": [
        "dd[0][2]  "
      ],
      "execution_count": 5,
      "outputs": [
        {
          "output_type": "execute_result",
          "data": {
            "text/plain": [
              "3"
            ]
          },
          "metadata": {
            "tags": []
          },
          "execution_count": 5
        }
      ]
    },
    {
      "cell_type": "markdown",
      "metadata": {
        "id": "cqAsnbKDk9tV",
        "colab_type": "text"
      },
      "source": [
        "\n",
        "\n",
        "\n",
        "#### **Rank:**\n",
        "\n",
        "\n",
        "The rank of a tensor refers to the number of dimensions present within the tensor.\n",
        "\n",
        "\n",
        "**Rank & Indexes:**\n",
        "\n",
        "The rank of a tensor tells us how many indexes are required to access (refer to) a specific data element contained within the tensor data structure.\n",
        "\n",
        "A tensor's rank tells us how many indexes are needed to refer to a specific element within the tensor."
      ]
    },
    {
      "cell_type": "markdown",
      "metadata": {
        "id": "JQVfVCCnnLoG",
        "colab_type": "text"
      },
      "source": [
        "####**Tensor Axes Example**\n",
        "Let's look at some examples to make this solid. We'll consider the same tensor dd as before:"
      ]
    },
    {
      "cell_type": "code",
      "metadata": {
        "id": "5taicCVynI-q",
        "colab_type": "code",
        "colab": {}
      },
      "source": [
        "dd = [\n",
        "[1,2,3],\n",
        "[4,5,6],\n",
        "[7,8,9]\n",
        "]"
      ],
      "execution_count": 6,
      "outputs": []
    },
    {
      "cell_type": "markdown",
      "metadata": {
        "id": "HTM0AWnHnXz9",
        "colab_type": "text"
      },
      "source": [
        "Each element along the first axis, is an array:"
      ]
    },
    {
      "cell_type": "code",
      "metadata": {
        "id": "Vi3x_huDnbmO",
        "colab_type": "code",
        "colab": {
          "base_uri": "https://localhost:8080/",
          "height": 33
        },
        "outputId": "7b5c2114-54f7-4eda-e619-c14d891e6dfd"
      },
      "source": [
        "dd[0]"
      ],
      "execution_count": 7,
      "outputs": [
        {
          "output_type": "execute_result",
          "data": {
            "text/plain": [
              "[1, 2, 3]"
            ]
          },
          "metadata": {
            "tags": []
          },
          "execution_count": 7
        }
      ]
    },
    {
      "cell_type": "code",
      "metadata": {
        "id": "6gFrQ3iAnftJ",
        "colab_type": "code",
        "colab": {
          "base_uri": "https://localhost:8080/",
          "height": 33
        },
        "outputId": "3ef7c48b-b0a1-4116-fcba-88f3d7ed67fe"
      },
      "source": [
        "  dd[1]"
      ],
      "execution_count": 9,
      "outputs": [
        {
          "output_type": "execute_result",
          "data": {
            "text/plain": [
              "[4, 5, 6]"
            ]
          },
          "metadata": {
            "tags": []
          },
          "execution_count": 9
        }
      ]
    },
    {
      "cell_type": "code",
      "metadata": {
        "id": "sLyrskronhGT",
        "colab_type": "code",
        "colab": {
          "base_uri": "https://localhost:8080/",
          "height": 33
        },
        "outputId": "e1335443-00dc-411c-b9f3-7c283dda1b50"
      },
      "source": [
        "dd[2]"
      ],
      "execution_count": 10,
      "outputs": [
        {
          "output_type": "execute_result",
          "data": {
            "text/plain": [
              "[7, 8, 9]"
            ]
          },
          "metadata": {
            "tags": []
          },
          "execution_count": 10
        }
      ]
    },
    {
      "cell_type": "markdown",
      "metadata": {
        "id": "yDEMCy-wnmUU",
        "colab_type": "text"
      },
      "source": [
        "Each element along the second axis, is a number:"
      ]
    },
    {
      "cell_type": "code",
      "metadata": {
        "id": "UeQbTugrnp_B",
        "colab_type": "code",
        "colab": {
          "base_uri": "https://localhost:8080/",
          "height": 33
        },
        "outputId": "ca1e315a-f89c-4a07-ed2d-cfa5ff16f360"
      },
      "source": [
        "dd[0][0]"
      ],
      "execution_count": 11,
      "outputs": [
        {
          "output_type": "execute_result",
          "data": {
            "text/plain": [
              "1"
            ]
          },
          "metadata": {
            "tags": []
          },
          "execution_count": 11
        }
      ]
    },
    {
      "cell_type": "code",
      "metadata": {
        "id": "d_ffimfUnuEu",
        "colab_type": "code",
        "colab": {
          "base_uri": "https://localhost:8080/",
          "height": 33
        },
        "outputId": "0b6733f2-1b79-43d9-a05e-5e123bc542c5"
      },
      "source": [
        "dd[1][0]"
      ],
      "execution_count": 12,
      "outputs": [
        {
          "output_type": "execute_result",
          "data": {
            "text/plain": [
              "4"
            ]
          },
          "metadata": {
            "tags": []
          },
          "execution_count": 12
        }
      ]
    },
    {
      "cell_type": "code",
      "metadata": {
        "id": "e-1zZWL1oDHp",
        "colab_type": "code",
        "colab": {
          "base_uri": "https://localhost:8080/",
          "height": 33
        },
        "outputId": "d93b4475-acc3-4548-e616-aaf4262203b7"
      },
      "source": [
        "dd[2][0]"
      ],
      "execution_count": 13,
      "outputs": [
        {
          "output_type": "execute_result",
          "data": {
            "text/plain": [
              "7"
            ]
          },
          "metadata": {
            "tags": []
          },
          "execution_count": 13
        }
      ]
    },
    {
      "cell_type": "code",
      "metadata": {
        "id": "HxQB_EvnoFLD",
        "colab_type": "code",
        "colab": {
          "base_uri": "https://localhost:8080/",
          "height": 33
        },
        "outputId": "a1e5be77-3847-489f-8931-ec7c7d8fdd0f"
      },
      "source": [
        "dd[0][1]"
      ],
      "execution_count": 14,
      "outputs": [
        {
          "output_type": "execute_result",
          "data": {
            "text/plain": [
              "2"
            ]
          },
          "metadata": {
            "tags": []
          },
          "execution_count": 14
        }
      ]
    },
    {
      "cell_type": "code",
      "metadata": {
        "id": "hde4G959oHCG",
        "colab_type": "code",
        "colab": {
          "base_uri": "https://localhost:8080/",
          "height": 33
        },
        "outputId": "940387ec-7b66-4514-f61c-2f444711f8b1"
      },
      "source": [
        "dd[1][1]"
      ],
      "execution_count": 15,
      "outputs": [
        {
          "output_type": "execute_result",
          "data": {
            "text/plain": [
              "5"
            ]
          },
          "metadata": {
            "tags": []
          },
          "execution_count": 15
        }
      ]
    },
    {
      "cell_type": "code",
      "metadata": {
        "id": "Q3AJ53k7oJBt",
        "colab_type": "code",
        "colab": {
          "base_uri": "https://localhost:8080/",
          "height": 33
        },
        "outputId": "7a64b856-8f39-47f1-e932-009516063d75"
      },
      "source": [
        "dd[2][1]"
      ],
      "execution_count": 16,
      "outputs": [
        {
          "output_type": "execute_result",
          "data": {
            "text/plain": [
              "8"
            ]
          },
          "metadata": {
            "tags": []
          },
          "execution_count": 16
        }
      ]
    },
    {
      "cell_type": "code",
      "metadata": {
        "id": "EpFk6rA-oLu6",
        "colab_type": "code",
        "colab": {
          "base_uri": "https://localhost:8080/",
          "height": 33
        },
        "outputId": "713a9604-cc87-4f01-ac5a-6c50bd4664b1"
      },
      "source": [
        "dd[0][2]"
      ],
      "execution_count": 17,
      "outputs": [
        {
          "output_type": "execute_result",
          "data": {
            "text/plain": [
              "3"
            ]
          },
          "metadata": {
            "tags": []
          },
          "execution_count": 17
        }
      ]
    },
    {
      "cell_type": "code",
      "metadata": {
        "id": "pTI6JgqpoNdv",
        "colab_type": "code",
        "colab": {
          "base_uri": "https://localhost:8080/",
          "height": 33
        },
        "outputId": "8d213016-8f40-4617-98f6-42d142b8e970"
      },
      "source": [
        "dd[1][2]"
      ],
      "execution_count": 18,
      "outputs": [
        {
          "output_type": "execute_result",
          "data": {
            "text/plain": [
              "6"
            ]
          },
          "metadata": {
            "tags": []
          },
          "execution_count": 18
        }
      ]
    },
    {
      "cell_type": "code",
      "metadata": {
        "id": "POtrABg_oPhy",
        "colab_type": "code",
        "colab": {
          "base_uri": "https://localhost:8080/",
          "height": 33
        },
        "outputId": "8679ece8-086e-4c4c-c509-6ca4b9657e85"
      },
      "source": [
        "dd[2][2]"
      ],
      "execution_count": 19,
      "outputs": [
        {
          "output_type": "execute_result",
          "data": {
            "text/plain": [
              "9"
            ]
          },
          "metadata": {
            "tags": []
          },
          "execution_count": 19
        }
      ]
    },
    {
      "cell_type": "markdown",
      "metadata": {
        "id": "8wcAMOtWoabU",
        "colab_type": "text"
      },
      "source": [
        "Note that, with tensors, the elements of the last axis are always numbers. Every other axis will contain n-dimensional arrays. This is what we see in this example, but this idea generalizes.\n",
        "\n",
        "The rank of a tensor tells us how many axes a tensor has, and the length of these axes leads us to the very important concept known as the shape of a tensor."
      ]
    },
    {
      "cell_type": "markdown",
      "metadata": {
        "id": "z5eNCBLTogsK",
        "colab_type": "text"
      },
      "source": [
        "### **Shape of a Tensor**\n",
        "\n",
        "The shape of a tensor is determined by the length of each axis, so if we know the shape of a given tensor, then we know the length of each axis, and this tells us how many indexes are available along each axis.\n",
        "\n",
        "The shape of a tensor gives us the length of each axis of the tensor.\n",
        "Let’s consider the same tensor dd as before:"
      ]
    },
    {
      "cell_type": "code",
      "metadata": {
        "id": "RmGm59LLoh38",
        "colab_type": "code",
        "colab": {}
      },
      "source": [
        "# Let's say we have a 2D array\n",
        "dd = [\n",
        "[1,2,3],\n",
        "[4,5,6],\n",
        "[7,8,9]\n",
        "]\n"
      ],
      "execution_count": 20,
      "outputs": []
    },
    {
      "cell_type": "code",
      "metadata": {
        "id": "vfVhTkuWoxUT",
        "colab_type": "code",
        "colab": {
          "base_uri": "https://localhost:8080/",
          "height": 84
        },
        "outputId": "36c97eb8-911f-4941-a75c-4e4e9c91c5c7"
      },
      "source": [
        "#To work with this tensor's shape, we’ll create a tensor object like so:\n",
        "\n",
        "t = tf.constant(dd)      # constant() is a function that helps you create a constant tensor\n",
        "t"
      ],
      "execution_count": 21,
      "outputs": [
        {
          "output_type": "execute_result",
          "data": {
            "text/plain": [
              "<tf.Tensor: shape=(3, 3), dtype=int32, numpy=\n",
              "array([[1, 2, 3],\n",
              "       [4, 5, 6],\n",
              "       [7, 8, 9]], dtype=int32)>"
            ]
          },
          "metadata": {
            "tags": []
          },
          "execution_count": 21
        }
      ]
    },
    {
      "cell_type": "code",
      "metadata": {
        "id": "YUol5cwJwwu6",
        "colab_type": "code",
        "colab": {
          "base_uri": "https://localhost:8080/",
          "height": 33
        },
        "outputId": "47dc868d-887e-4ffa-b365-68454e525c00"
      },
      "source": [
        "type(t)   # To get the type of object t"
      ],
      "execution_count": 22,
      "outputs": [
        {
          "output_type": "execute_result",
          "data": {
            "text/plain": [
              "tensorflow.python.framework.ops.EagerTensor"
            ]
          },
          "metadata": {
            "tags": []
          },
          "execution_count": 22
        }
      ]
    },
    {
      "cell_type": "code",
      "metadata": {
        "id": "vi5Fx8_co_Mc",
        "colab_type": "code",
        "colab": {
          "base_uri": "https://localhost:8080/",
          "height": 33
        },
        "outputId": "2d52c54c-28e0-4b8b-db61-a84eb57034d5"
      },
      "source": [
        "# Now, we have a Tensor object, and so we can ask to see the tensor's shape:\n",
        "\n",
        "t.shape"
      ],
      "execution_count": 23,
      "outputs": [
        {
          "output_type": "execute_result",
          "data": {
            "text/plain": [
              "TensorShape([3, 3])"
            ]
          },
          "metadata": {
            "tags": []
          },
          "execution_count": 23
        }
      ]
    },
    {
      "cell_type": "markdown",
      "metadata": {
        "id": "P8JEb0w7q46f",
        "colab_type": "text"
      },
      "source": [
        "# Tensor Operation Types\n",
        "Before we dive in with specific tensor operations, let’s get a quick overview of the landscape by looking at the main operation categories that encompass the operations we’ll cover. We have the following high-level categories of operations:\n",
        "\n",
        "1. Reshaping operations\n",
        "2. Element-wise operations\n",
        "3. Reduction operations\n",
        "4. Access operations"
      ]
    },
    {
      "cell_type": "markdown",
      "metadata": {
        "id": "D9h1U1JjrMw2",
        "colab_type": "text"
      },
      "source": [
        "## Reshaping A Tensor In TensorFlow\n",
        "Let’s look now at all the ways in which this tensor t can be reshaped without changing the rank:"
      ]
    },
    {
      "cell_type": "markdown",
      "metadata": {
        "id": "xBEAAKPOrd7X",
        "colab_type": "text"
      },
      "source": [
        "Suppose that we have the following tensor:"
      ]
    },
    {
      "cell_type": "code",
      "metadata": {
        "id": "hTuY3m3hracX",
        "colab_type": "code",
        "colab": {}
      },
      "source": [
        "t = tf.constant([\n",
        "    [1,1,1,1],\n",
        "    [2,2,2,2],\n",
        "    [3,3,3,3]\n",
        "], dtype=tf.float32)    # can also mention the type of the element we want in the tensor"
      ],
      "execution_count": 24,
      "outputs": []
    },
    {
      "cell_type": "code",
      "metadata": {
        "id": "gKadLQDTrPJG",
        "colab_type": "code",
        "colab": {
          "base_uri": "https://localhost:8080/",
          "height": 33
        },
        "outputId": "d82fc7f7-d6d5-4c9c-a112-87f8a3a183b1"
      },
      "source": [
        "reshaped_tensor = tf.reshape(t, [1,12])     # reshape is a function that helps to reshaping any ndarray or ndtensor\n",
        "print(reshaped_tensor)"
      ],
      "execution_count": 25,
      "outputs": [
        {
          "output_type": "stream",
          "text": [
            "tf.Tensor([[1. 1. 1. 1. 2. 2. 2. 2. 3. 3. 3. 3.]], shape=(1, 12), dtype=float32)\n"
          ],
          "name": "stdout"
        }
      ]
    },
    {
      "cell_type": "code",
      "metadata": {
        "id": "yhRlCLL0rTZu",
        "colab_type": "code",
        "colab": {
          "base_uri": "https://localhost:8080/",
          "height": 67
        },
        "outputId": "61368907-36f5-40d8-d4ac-5e7319fb0711"
      },
      "source": [
        "reshaped_tensor = tf.reshape(t, [2,6])\n",
        "print(reshaped_tensor)"
      ],
      "execution_count": 26,
      "outputs": [
        {
          "output_type": "stream",
          "text": [
            "tf.Tensor(\n",
            "[[1. 1. 1. 1. 2. 2.]\n",
            " [2. 2. 3. 3. 3. 3.]], shape=(2, 6), dtype=float32)\n"
          ],
          "name": "stdout"
        }
      ]
    },
    {
      "cell_type": "code",
      "metadata": {
        "id": "4eCFm3WXrj3s",
        "colab_type": "code",
        "colab": {
          "base_uri": "https://localhost:8080/",
          "height": 84
        },
        "outputId": "ddec20ff-fba8-4e55-f6fe-2b6406f8464b"
      },
      "source": [
        "reshaped_tensor = tf.reshape(t, [3,4])\n",
        "print(reshaped_tensor)"
      ],
      "execution_count": 27,
      "outputs": [
        {
          "output_type": "stream",
          "text": [
            "tf.Tensor(\n",
            "[[1. 1. 1. 1.]\n",
            " [2. 2. 2. 2.]\n",
            " [3. 3. 3. 3.]], shape=(3, 4), dtype=float32)\n"
          ],
          "name": "stdout"
        }
      ]
    },
    {
      "cell_type": "code",
      "metadata": {
        "id": "SkvSx7fgTJcU",
        "colab_type": "code",
        "colab": {
          "base_uri": "https://localhost:8080/",
          "height": 67
        },
        "outputId": "864c998d-34b8-4946-9c6a-1f1f773d9f59"
      },
      "source": [
        "re_shape = tf.reshape(t,[2,6])\n",
        "print(re_shape)"
      ],
      "execution_count": 28,
      "outputs": [
        {
          "output_type": "stream",
          "text": [
            "tf.Tensor(\n",
            "[[1. 1. 1. 1. 2. 2.]\n",
            " [2. 2. 3. 3. 3. 3.]], shape=(2, 6), dtype=float32)\n"
          ],
          "name": "stdout"
        }
      ]
    },
    {
      "cell_type": "markdown",
      "metadata": {
        "id": "SyM79z5nrouW",
        "colab_type": "text"
      },
      "source": [
        "Using the `reshape()` function, we can specify the `row x column` shape that we are seeking. Notice how all of the shapes have to account for the number of elements in the tensor. In our example this is:\n",
        "\n",
        "\n",
        "\n",
        "```\n",
        "rows * columns = 12 elements\n",
        "```\n",
        "\n"
      ]
    },
    {
      "cell_type": "markdown",
      "metadata": {
        "id": "HaFhqZAGr4u8",
        "colab_type": "text"
      },
      "source": [
        "We can use the intuitive words rows and columns when we are dealing with a rank 2 tensor. The underlying logic is the same for higher dimensional tenors even though we may not be able to use the intuition of rows and columns in higher dimensional spaces. For example:"
      ]
    },
    {
      "cell_type": "code",
      "metadata": {
        "id": "5hUcfpbUr8m0",
        "colab_type": "code",
        "colab": {
          "base_uri": "https://localhost:8080/",
          "height": 117
        },
        "outputId": "f80daba9-aee1-46b1-cdd6-07b3b30cc02e"
      },
      "source": [
        "reshaped_tensor = tf.reshape(t, [2,2,3])\n",
        "print(reshaped_tensor)"
      ],
      "execution_count": 29,
      "outputs": [
        {
          "output_type": "stream",
          "text": [
            "tf.Tensor(\n",
            "[[[1. 1. 1.]\n",
            "  [1. 2. 2.]]\n",
            "\n",
            " [[2. 2. 3.]\n",
            "  [3. 3. 3.]]], shape=(2, 2, 3), dtype=float32)\n"
          ],
          "name": "stdout"
        }
      ]
    },
    {
      "cell_type": "markdown",
      "metadata": {
        "id": "8mR14GbJsHrD",
        "colab_type": "text"
      },
      "source": [
        "In this example, we increase the rank to 3, and so we lose the rows and columns concept. However, the product of the shape's components (2,2,3) still has to be equal to the number of elements in the original tensor ( 12)."
      ]
    },
    {
      "cell_type": "markdown",
      "metadata": {
        "id": "bH18ROyCsOYx",
        "colab_type": "text"
      },
      "source": [
        "## Changing Shape By Squeezing And Unsqueezing\n",
        "The next way we can change the shape of our tensors is by squeezing and unsqueezing them.\n",
        "\n",
        "1. Squeezing a tensor removes the dimensions or axes that have a length of one.\n",
        "2. Unsqueezing a tensor adds a dimension with a length of one.\n",
        "\n",
        "These functions allow us to expand or shrink the rank (number of dimensions) of our tensor. Let’s see this in action."
      ]
    },
    {
      "cell_type": "code",
      "metadata": {
        "id": "vnxnybFDsbAi",
        "colab_type": "code",
        "colab": {
          "base_uri": "https://localhost:8080/",
          "height": 33
        },
        "outputId": "9d0504e3-a6d7-4f2a-e8d9-0892d847ac8b"
      },
      "source": [
        "print(tf.reshape(t, [1,12]))"
      ],
      "execution_count": 30,
      "outputs": [
        {
          "output_type": "stream",
          "text": [
            "tf.Tensor([[1. 1. 1. 1. 2. 2. 2. 2. 3. 3. 3. 3.]], shape=(1, 12), dtype=float32)\n"
          ],
          "name": "stdout"
        }
      ]
    },
    {
      "cell_type": "code",
      "metadata": {
        "id": "EzRm2kBqsbwY",
        "colab_type": "code",
        "colab": {
          "base_uri": "https://localhost:8080/",
          "height": 33
        },
        "outputId": "4ca11859-3554-4e55-dcc0-e4bd68c50c68"
      },
      "source": [
        "print(tf.reshape(t, [1,12]).shape)"
      ],
      "execution_count": 31,
      "outputs": [
        {
          "output_type": "stream",
          "text": [
            "(1, 12)\n"
          ],
          "name": "stdout"
        }
      ]
    },
    {
      "cell_type": "code",
      "metadata": {
        "id": "OuytZnoMsf20",
        "colab_type": "code",
        "colab": {
          "base_uri": "https://localhost:8080/",
          "height": 33
        },
        "outputId": "123fe346-a15a-4d47-b174-b186a2da5310"
      },
      "source": [
        "print(tf.squeeze(tf.reshape(t, [1,12])))"
      ],
      "execution_count": 32,
      "outputs": [
        {
          "output_type": "stream",
          "text": [
            "tf.Tensor([1. 1. 1. 1. 2. 2. 2. 2. 3. 3. 3. 3.], shape=(12,), dtype=float32)\n"
          ],
          "name": "stdout"
        }
      ]
    },
    {
      "cell_type": "code",
      "metadata": {
        "id": "-9YdRE4PsiQj",
        "colab_type": "code",
        "colab": {
          "base_uri": "https://localhost:8080/",
          "height": 33
        },
        "outputId": "3c9e1273-3669-40bc-ee14-c08411552857"
      },
      "source": [
        "print(tf.squeeze(tf.reshape(t, [1,12])).shape)"
      ],
      "execution_count": 33,
      "outputs": [
        {
          "output_type": "stream",
          "text": [
            "(12,)\n"
          ],
          "name": "stdout"
        }
      ]
    },
    {
      "cell_type": "markdown",
      "metadata": {
        "id": "ddubrHu1swqE",
        "colab_type": "text"
      },
      "source": [
        "\n",
        "Let’s look at a common use case for squeezing a tensor by building a flatten function.\n",
        "\n",
        "## Flatten A Tensor\n",
        "A flatten operation on a tensor reshapes the tensor to have a shape that is equal to the number of elements contained in the tensor. This is the same thing as a 1d-array of elements.\n",
        "\n",
        "\n",
        "\n",
        "```\n",
        "Flattening a tensor means to remove all of the dimensions except for one.\n",
        "```\n",
        "\n"
      ]
    },
    {
      "cell_type": "markdown",
      "metadata": {
        "id": "N3mb5Slps7fg",
        "colab_type": "text"
      },
      "source": [
        "Let’s create a Python function called `flatten()`:"
      ]
    },
    {
      "cell_type": "code",
      "metadata": {
        "id": "Lr3z01VVtATw",
        "colab_type": "code",
        "colab": {}
      },
      "source": [
        "def flatten(t):\n",
        "    t = tf.reshape(t, [1, -1])\n",
        "    t = tf.squeeze(t)\n",
        "    return t"
      ],
      "execution_count": 40,
      "outputs": []
    },
    {
      "cell_type": "markdown",
      "metadata": {
        "id": "teqAjgCYtDcn",
        "colab_type": "text"
      },
      "source": [
        "The flatten() function takes in a tensor t as an argument."
      ]
    },
    {
      "cell_type": "markdown",
      "metadata": {
        "id": "fhVS-WRgtHaE",
        "colab_type": "text"
      },
      "source": [
        "Since the argument t can be any tensor, we pass -1 as the second argument to the reshape() function. In TensorFlow, the -1 tells the reshape() function to figure out what the value should be based on the number of elements contained within the tensor. Remember, the shape must equal the product of the shape's component values. This is how TensorFlow can figure out what the value should be, given a 1 as the first argument.\n",
        "\n",
        "Since our tensor t has 12 elements, the reshape() function is able to figure out that a 12 is required for the length of the second axis.\n",
        "\n",
        "After squeezing, the first axis (axis-0) is removed, and we obtain our desired result, a 1d-array of length 12.\n",
        "\n",
        "Here's an example of this in action:"
      ]
    },
    {
      "cell_type": "code",
      "metadata": {
        "id": "l77_ZqottKim",
        "colab_type": "code",
        "colab": {
          "base_uri": "https://localhost:8080/",
          "height": 100
        },
        "outputId": "d661367e-6047-41d3-95b0-4aa19dff2920"
      },
      "source": [
        "t = tf.ones([4, 3])\n",
        "t"
      ],
      "execution_count": 41,
      "outputs": [
        {
          "output_type": "execute_result",
          "data": {
            "text/plain": [
              "<tf.Tensor: shape=(4, 3), dtype=float32, numpy=\n",
              "array([[1., 1., 1.],\n",
              "       [1., 1., 1.],\n",
              "       [1., 1., 1.],\n",
              "       [1., 1., 1.]], dtype=float32)>"
            ]
          },
          "metadata": {
            "tags": []
          },
          "execution_count": 41
        }
      ]
    },
    {
      "cell_type": "code",
      "metadata": {
        "id": "TLRudZRvtNir",
        "colab_type": "code",
        "colab": {
          "base_uri": "https://localhost:8080/",
          "height": 33
        },
        "outputId": "fc1b3658-c6ce-4af9-86d2-3969fa1b4e58"
      },
      "source": [
        "flatten(t)"
      ],
      "execution_count": 42,
      "outputs": [
        {
          "output_type": "execute_result",
          "data": {
            "text/plain": [
              "<tf.Tensor: shape=(12,), dtype=float32, numpy=array([1., 1., 1., 1., 1., 1., 1., 1., 1., 1., 1., 1.], dtype=float32)>"
            ]
          },
          "metadata": {
            "tags": []
          },
          "execution_count": 42
        }
      ]
    },
    {
      "cell_type": "markdown",
      "metadata": {
        "id": "DGelUFNhtUdE",
        "colab_type": "text"
      },
      "source": [
        "## Concatenating Tensors\n",
        "We combine tensors using the `concat()` function, and the resulting tensor will have a shape that depends on the shape of the two input tensors.\n",
        "\n",
        "Suppose we have two tensors:"
      ]
    },
    {
      "cell_type": "code",
      "metadata": {
        "id": "xh149w9Xtb8B",
        "colab_type": "code",
        "colab": {}
      },
      "source": [
        "t1 = tf.constant([\n",
        "    [1,2],\n",
        "    [3,4]\n",
        "])\n",
        "\n",
        "t2 = tf.constant([\n",
        "    [5,6],\n",
        "    [7,8]\n",
        "])"
      ],
      "execution_count": 43,
      "outputs": []
    },
    {
      "cell_type": "markdown",
      "metadata": {
        "id": "GmoMicRPthkY",
        "colab_type": "text"
      },
      "source": [
        "We can combine t1 and t2 row-wise (axis-0) in the following way:"
      ]
    },
    {
      "cell_type": "code",
      "metadata": {
        "id": "vdk3MiUktkY7",
        "colab_type": "code",
        "colab": {
          "base_uri": "https://localhost:8080/",
          "height": 100
        },
        "outputId": "ec06825a-dc9a-4dea-e268-3b82934f4ba8"
      },
      "source": [
        "tf.concat((t1, t2), axis = 0)  # concat() helps you to concatenate two tensors according to the given axis"
      ],
      "execution_count": 44,
      "outputs": [
        {
          "output_type": "execute_result",
          "data": {
            "text/plain": [
              "<tf.Tensor: shape=(4, 2), dtype=int32, numpy=\n",
              "array([[1, 2],\n",
              "       [3, 4],\n",
              "       [5, 6],\n",
              "       [7, 8]], dtype=int32)>"
            ]
          },
          "metadata": {
            "tags": []
          },
          "execution_count": 44
        }
      ]
    },
    {
      "cell_type": "markdown",
      "metadata": {
        "id": "oRGRXkvQtmuf",
        "colab_type": "text"
      },
      "source": [
        "We can combine them column-wise (axis-1) like this:"
      ]
    },
    {
      "cell_type": "code",
      "metadata": {
        "id": "uUs5bMGOtpID",
        "colab_type": "code",
        "colab": {
          "base_uri": "https://localhost:8080/",
          "height": 67
        },
        "outputId": "59bdffc3-0d60-4a20-eb02-e9b3d591add3"
      },
      "source": [
        "tf.concat((t1, t2), axis = 1)"
      ],
      "execution_count": 45,
      "outputs": [
        {
          "output_type": "execute_result",
          "data": {
            "text/plain": [
              "<tf.Tensor: shape=(2, 4), dtype=int32, numpy=\n",
              "array([[1, 2, 5, 6],\n",
              "       [3, 4, 7, 8]], dtype=int32)>"
            ]
          },
          "metadata": {
            "tags": []
          },
          "execution_count": 45
        }
      ]
    },
    {
      "cell_type": "markdown",
      "metadata": {
        "id": "HRUWHLgCts20",
        "colab_type": "text"
      },
      "source": [
        "When we concatenate tensors, we increase the number of elements contained within the resulting tensor. This causes the component values within the shape (lengths of the axes) to adjust to account for the additional elements."
      ]
    },
    {
      "cell_type": "code",
      "metadata": {
        "id": "U6uPgjPatvz6",
        "colab_type": "code",
        "colab": {
          "base_uri": "https://localhost:8080/",
          "height": 33
        },
        "outputId": "1241776f-f1b7-40f0-cd0e-feea5fb796ce"
      },
      "source": [
        "tf.concat((t1, t2), axis = 0).shape"
      ],
      "execution_count": 46,
      "outputs": [
        {
          "output_type": "execute_result",
          "data": {
            "text/plain": [
              "TensorShape([4, 2])"
            ]
          },
          "metadata": {
            "tags": []
          },
          "execution_count": 46
        }
      ]
    },
    {
      "cell_type": "code",
      "metadata": {
        "id": "16P6eplXtx5G",
        "colab_type": "code",
        "colab": {
          "base_uri": "https://localhost:8080/",
          "height": 33
        },
        "outputId": "8e64a561-b303-4554-c652-9edf534bdb8b"
      },
      "source": [
        "tf.concat((t1, t2), axis = 1).shape"
      ],
      "execution_count": 47,
      "outputs": [
        {
          "output_type": "execute_result",
          "data": {
            "text/plain": [
              "TensorShape([2, 4])"
            ]
          },
          "metadata": {
            "tags": []
          },
          "execution_count": 47
        }
      ]
    },
    {
      "cell_type": "markdown",
      "metadata": {
        "id": "Z42XLIvSt48P",
        "colab_type": "text"
      },
      "source": [
        "# Conclusion About Reshaping Tensors\n",
        "We should now have a good understanding of what it means to reshape a tensor. Any time we change a tensor's shape, we are said to be reshaping the tensor."
      ]
    },
    {
      "cell_type": "markdown",
      "metadata": {
        "id": "xZRIIp3Y5T4f",
        "colab_type": "text"
      },
      "source": [
        "Reference: Deeplizard"
      ]
    }
  ]
}